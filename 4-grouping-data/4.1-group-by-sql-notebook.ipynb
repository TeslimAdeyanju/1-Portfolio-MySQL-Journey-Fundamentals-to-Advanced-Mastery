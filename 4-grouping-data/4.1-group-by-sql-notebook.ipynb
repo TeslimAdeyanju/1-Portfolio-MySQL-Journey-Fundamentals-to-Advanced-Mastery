{
 "cells": [
  {
   "cell_type": "markdown",
   "metadata": {},
   "source": [
    "# 📚 SQL GROUP BY \n",
    "___\n",
    "\n",
    "<div style=\"font-family: Avenir, sans-serif; font-size: 16px; line-height: 1.6; color: white; background-color: #333; padding: 10px; border-radius: 5px;\">\n",
    "This series of notebooks is a collection of my SQL projects. I have been working with SQL for a few years now and I have been using it in various projects. I have decided to create this portfolio to showcase my SQL skills. I hope you enjoy it!\n",
    "\n",
    "</div>"
   ]
  },
  {
   "cell_type": "markdown",
   "metadata": {},
   "source": [
    "Welcome to my SQL portfolio! This notebook delves into GROUP BY, demonstrating my understanding of key SQL concepts, including:\n",
    "\n",
    "- Using **aliases** for enhanced readability and clarity\n",
    "- Performing **Right Joins** to combine data from multiple tables with specified conditions\n",
    "- Leveraging **aggregations** to summarize data insights\n",
    "- Filtering aggregated results with **HAVING clauses** for precise queries\n",
    "\n",
    "To showcase the practical applications of SQL in data analysis and database management, I’ve integrated Python to connect to the database, execute SQL queries, and display results directly within this notebook.\n",
    "\n",
    "### Database Overview\n",
    "\n",
    "This notebook utilizes the `classicmodels` sample database, which includes key tables like **customers**, **orders**, **products**, and **orderdetails**. These tables represent real-world relationships among customers, products, and sales orders, providing a realistic foundation for practicing SQL join operations.\n",
    "\n",
    "### Key Tables and Columns:\n",
    "\n",
    "- **customers**: `customerNumber`, `customerName`, `contactLastName`, `contactFirstName`\n",
    "- **orders**: `orderNumber`, `orderDate`, `customerNumber`\n",
    "- **orderdetails**: `orderNumber`, `productCode`, `quantityOrdered`, `priceEach`\n",
    "- **products**: `productCode`, `productName`, `productLine`, `msrp`\n",
    "\n",
    "By combining SQL techniques with Python's database connectivity, this portfolio demonstrates efficient ways to perform business data analysis and streamline insights into customer orders, products, and sales."
   ]
  },
  {
   "cell_type": "code",
   "execution_count": 3,
   "metadata": {},
   "outputs": [],
   "source": [
    "# Import necessary libraries\n",
    "import mysql.connector\n",
    "import pandas as pd\n",
    "\n",
    "# Establish database connection\n",
    "connection = mysql.connector.connect(\n",
    "    user='root',\n",
    "    password='Password1234',\n",
    "    host='localhost',\n",
    "    database='classicmodels'\n",
    ")\n",
    "\n",
    "# Function to execute SQL queries and display results\n",
    "def execute_query(query):\n",
    "    cursor = connection.cursor()\n",
    "    cursor.execute(query)\n",
    "    \n",
    "    # Fetch results and convert to a DataFrame\n",
    "    result = cursor.fetchall()\n",
    "    columns = [desc[0] for desc in cursor.description]  # Column names\n",
    "    \n",
    "    # Close cursor after execution\n",
    "    cursor.close()\n",
    "    return pd.DataFrame(result, columns=columns)\n"
   ]
  },
  {
   "cell_type": "markdown",
   "metadata": {},
   "source": [
    "____"
   ]
  },
  {
   "cell_type": "markdown",
   "metadata": {},
   "source": [
    "### GROUP BY syntax"
   ]
  },
  {
   "cell_type": "code",
   "execution_count": null,
   "metadata": {},
   "outputs": [
    {
     "ename": "IndentationError",
     "evalue": "unexpected indent (1894023184.py, line 2)",
     "output_type": "error",
     "traceback": [
      "\u001b[0;36m  Cell \u001b[0;32mIn[4], line 2\u001b[0;36m\u001b[0m\n\u001b[0;31m    column1,\u001b[0m\n\u001b[0m    ^\u001b[0m\n\u001b[0;31mIndentationError\u001b[0m\u001b[0;31m:\u001b[0m unexpected indent\n"
     ]
    }
   ],
   "source": [
    "SELECT \n",
    "   column1, \n",
    "   column2, \n",
    "   column3, \n",
    "   aggregate_function(column4)\n",
    "FROM \n",
    "   table_name \n",
    "WHERE \n",
    "   condition_statement\n",
    "GROUP BY\n",
    "   column1, column2, column3\n",
    "HAVING \n",
    "   aggregate_function(column4) condition;\n"
   ]
  },
  {
   "cell_type": "markdown",
   "metadata": {},
   "source": [
    "___"
   ]
  },
  {
   "cell_type": "markdown",
   "metadata": {},
   "source": [
    "### Question 1  \n",
    "\n",
    "**Objective:** Understand how to use the `GROUP BY` clause to organize query results based on a specific column.\n",
    "\n",
    "**Task**  \n",
    "\n",
    "Using the `orders` table, write a query to:  \n",
    "\n",
    "- Retrieve the `status` of all orders.  \n",
    "- Group the results by the `status` column to ensure unique occurrences of each status are displayed.  \n",
    "\n",
    "**Requirements**  \n",
    "\n",
    "- Use the `GROUP BY` clause to categorize the `status` values.  \n",
    "- Ensure that each unique order status appears only once in the result set.  \n",
    "\n",
    "**Solution**  \n",
    "\n",
    "```sql\n",
    "SELECT \n",
    "    status \n",
    "FROM \n",
    "    orders \n",
    "GROUP BY \n",
    "    status;\n",
    "```"
   ]
  },
  {
   "cell_type": "code",
   "execution_count": 12,
   "metadata": {},
   "outputs": [
    {
     "data": {
      "application/vnd.microsoft.datawrangler.viewer.v0+json": {
       "columns": [
        {
         "name": "index",
         "rawType": "int64",
         "type": "integer"
        },
        {
         "name": "status",
         "rawType": "object",
         "type": "string"
        }
       ],
       "conversionMethod": "pd.DataFrame",
       "ref": "a49b7057-c15e-4ac5-ac90-43b9565d471e",
       "rows": [
        [
         "0",
         "Shipped"
        ],
        [
         "1",
         "Resolved"
        ],
        [
         "2",
         "Cancelled"
        ],
        [
         "3",
         "On Hold"
        ],
        [
         "4",
         "Disputed"
        ],
        [
         "5",
         "In Process"
        ]
       ],
       "shape": {
        "columns": 1,
        "rows": 6
       }
      },
      "text/html": [
       "<div>\n",
       "<style scoped>\n",
       "    .dataframe tbody tr th:only-of-type {\n",
       "        vertical-align: middle;\n",
       "    }\n",
       "\n",
       "    .dataframe tbody tr th {\n",
       "        vertical-align: top;\n",
       "    }\n",
       "\n",
       "    .dataframe thead th {\n",
       "        text-align: right;\n",
       "    }\n",
       "</style>\n",
       "<table border=\"1\" class=\"dataframe\">\n",
       "  <thead>\n",
       "    <tr style=\"text-align: right;\">\n",
       "      <th></th>\n",
       "      <th>status</th>\n",
       "    </tr>\n",
       "  </thead>\n",
       "  <tbody>\n",
       "    <tr>\n",
       "      <th>0</th>\n",
       "      <td>Shipped</td>\n",
       "    </tr>\n",
       "    <tr>\n",
       "      <th>1</th>\n",
       "      <td>Resolved</td>\n",
       "    </tr>\n",
       "    <tr>\n",
       "      <th>2</th>\n",
       "      <td>Cancelled</td>\n",
       "    </tr>\n",
       "    <tr>\n",
       "      <th>3</th>\n",
       "      <td>On Hold</td>\n",
       "    </tr>\n",
       "    <tr>\n",
       "      <th>4</th>\n",
       "      <td>Disputed</td>\n",
       "    </tr>\n",
       "    <tr>\n",
       "      <th>5</th>\n",
       "      <td>In Process</td>\n",
       "    </tr>\n",
       "  </tbody>\n",
       "</table>\n",
       "</div>"
      ],
      "text/plain": [
       "       status\n",
       "0     Shipped\n",
       "1    Resolved\n",
       "2   Cancelled\n",
       "3     On Hold\n",
       "4    Disputed\n",
       "5  In Process"
      ]
     },
     "execution_count": 12,
     "metadata": {},
     "output_type": "execute_result"
    }
   ],
   "source": [
    "sql_query = \"\"\"\n",
    "\n",
    "SELECT \n",
    "    status \n",
    "FROM \n",
    "    orders \n",
    "GROUP BY \n",
    "    status;\n",
    "\n",
    "\"\"\"\n",
    "\n",
    "# Execute the query and display the results\n",
    "result_df = execute_query(sql_query)\n",
    "result_df"
   ]
  },
  {
   "cell_type": "markdown",
   "metadata": {},
   "source": [
    "___"
   ]
  },
  {
   "cell_type": "markdown",
   "metadata": {},
   "source": [
    "### Question 2  \n",
    "\n",
    "**Objective:** Learn how to use the `GROUP BY` clause with aggregate functions in MySQL.\n",
    "\n",
    "**Task**  \n",
    "\n",
    "Using the `orders` table, write a query to:  \n",
    "\n",
    "- Retrieve the `status` of orders.  \n",
    "- Count the number of orders for each `status`.  \n",
    "\n",
    "**Requirements**  \n",
    "\n",
    "- Use the `COUNT` function to count the number of rows in each group.  \n",
    "- Use the `GROUP BY` clause to group rows into sets based on the `status` column.  \n",
    "\n",
    "**Solution**  \n",
    "\n",
    "```sql\n",
    "SELECT \n",
    "    status, \n",
    "    COUNT(*) \n",
    "FROM \n",
    "    orders \n",
    "GROUP BY \n",
    "    status;\n",
    "```"
   ]
  },
  {
   "cell_type": "code",
   "execution_count": 13,
   "metadata": {},
   "outputs": [
    {
     "data": {
      "application/vnd.microsoft.datawrangler.viewer.v0+json": {
       "columns": [
        {
         "name": "index",
         "rawType": "int64",
         "type": "integer"
        },
        {
         "name": "status",
         "rawType": "object",
         "type": "string"
        },
        {
         "name": "COUNT(*)",
         "rawType": "int64",
         "type": "integer"
        }
       ],
       "conversionMethod": "pd.DataFrame",
       "ref": "489949a1-a513-416a-90aa-78aed1d16cef",
       "rows": [
        [
         "0",
         "Shipped",
         "303"
        ],
        [
         "1",
         "Resolved",
         "4"
        ],
        [
         "2",
         "Cancelled",
         "6"
        ],
        [
         "3",
         "On Hold",
         "4"
        ],
        [
         "4",
         "Disputed",
         "3"
        ],
        [
         "5",
         "In Process",
         "6"
        ]
       ],
       "shape": {
        "columns": 2,
        "rows": 6
       }
      },
      "text/html": [
       "<div>\n",
       "<style scoped>\n",
       "    .dataframe tbody tr th:only-of-type {\n",
       "        vertical-align: middle;\n",
       "    }\n",
       "\n",
       "    .dataframe tbody tr th {\n",
       "        vertical-align: top;\n",
       "    }\n",
       "\n",
       "    .dataframe thead th {\n",
       "        text-align: right;\n",
       "    }\n",
       "</style>\n",
       "<table border=\"1\" class=\"dataframe\">\n",
       "  <thead>\n",
       "    <tr style=\"text-align: right;\">\n",
       "      <th></th>\n",
       "      <th>status</th>\n",
       "      <th>COUNT(*)</th>\n",
       "    </tr>\n",
       "  </thead>\n",
       "  <tbody>\n",
       "    <tr>\n",
       "      <th>0</th>\n",
       "      <td>Shipped</td>\n",
       "      <td>303</td>\n",
       "    </tr>\n",
       "    <tr>\n",
       "      <th>1</th>\n",
       "      <td>Resolved</td>\n",
       "      <td>4</td>\n",
       "    </tr>\n",
       "    <tr>\n",
       "      <th>2</th>\n",
       "      <td>Cancelled</td>\n",
       "      <td>6</td>\n",
       "    </tr>\n",
       "    <tr>\n",
       "      <th>3</th>\n",
       "      <td>On Hold</td>\n",
       "      <td>4</td>\n",
       "    </tr>\n",
       "    <tr>\n",
       "      <th>4</th>\n",
       "      <td>Disputed</td>\n",
       "      <td>3</td>\n",
       "    </tr>\n",
       "    <tr>\n",
       "      <th>5</th>\n",
       "      <td>In Process</td>\n",
       "      <td>6</td>\n",
       "    </tr>\n",
       "  </tbody>\n",
       "</table>\n",
       "</div>"
      ],
      "text/plain": [
       "       status  COUNT(*)\n",
       "0     Shipped       303\n",
       "1    Resolved         4\n",
       "2   Cancelled         6\n",
       "3     On Hold         4\n",
       "4    Disputed         3\n",
       "5  In Process         6"
      ]
     },
     "execution_count": 13,
     "metadata": {},
     "output_type": "execute_result"
    }
   ],
   "source": [
    "sql_query = \"\"\"\n",
    "\n",
    "SELECT \n",
    "  status, \n",
    "  COUNT(*) \n",
    "FROM \n",
    "  orders \n",
    "GROUP BY \n",
    "  status;\n",
    "\n",
    "\"\"\"\n",
    "\n",
    "# Execute the query and display the results\n",
    "result_df = execute_query(sql_query)\n",
    "result_df"
   ]
  },
  {
   "cell_type": "markdown",
   "metadata": {},
   "source": [
    "___"
   ]
  },
  {
   "cell_type": "markdown",
   "metadata": {},
   "source": [
    "### Question 3  \n",
    "\n",
    "**Objective:** Calculate the total amount of all orders by status using `GROUP BY` with the `SUM` function.\n",
    "\n",
    "**Task**  \n",
    "\n",
    "Using the `orders` and `orderdetails` tables, write a query to:  \n",
    "\n",
    "- Retrieve the `status` of orders.  \n",
    "- Calculate the total amount of all orders for each `status` by multiplying `quantityOrdered` with `priceEach`.  \n",
    "\n",
    "**Requirements**  \n",
    "\n",
    "- Use the `SUM` function to calculate the total amount per order status.  \n",
    "- Join the `orders` table with the `orderdetails` table using `INNER JOIN`.  \n",
    "- Use the `GROUP BY` clause to group rows based on the `status` column.  \n",
    "\n",
    "**Solution**  \n",
    "\n",
    "```sql\n",
    "SELECT \n",
    "    status, \n",
    "    SUM(quantityOrdered * priceEach) AS amount \n",
    "FROM \n",
    "    orders \n",
    "    INNER JOIN orderdetails USING (orderNumber) \n",
    "GROUP BY \n",
    "    status;\n",
    "```\n"
   ]
  },
  {
   "cell_type": "code",
   "execution_count": 14,
   "metadata": {},
   "outputs": [
    {
     "data": {
      "application/vnd.microsoft.datawrangler.viewer.v0+json": {
       "columns": [
        {
         "name": "index",
         "rawType": "int64",
         "type": "integer"
        },
        {
         "name": "status",
         "rawType": "object",
         "type": "string"
        },
        {
         "name": "amount",
         "rawType": "object",
         "type": "unknown"
        }
       ],
       "conversionMethod": "pd.DataFrame",
       "ref": "7c035c61-4300-46e7-97ec-bd05765384f1",
       "rows": [
        [
         "0",
         "Shipped",
         "8865094.64"
        ],
        [
         "1",
         "Resolved",
         "134235.88"
        ],
        [
         "2",
         "Cancelled",
         "238854.18"
        ],
        [
         "3",
         "On Hold",
         "169575.61"
        ],
        [
         "4",
         "Disputed",
         "61158.78"
        ],
        [
         "5",
         "In Process",
         "135271.52"
        ]
       ],
       "shape": {
        "columns": 2,
        "rows": 6
       }
      },
      "text/html": [
       "<div>\n",
       "<style scoped>\n",
       "    .dataframe tbody tr th:only-of-type {\n",
       "        vertical-align: middle;\n",
       "    }\n",
       "\n",
       "    .dataframe tbody tr th {\n",
       "        vertical-align: top;\n",
       "    }\n",
       "\n",
       "    .dataframe thead th {\n",
       "        text-align: right;\n",
       "    }\n",
       "</style>\n",
       "<table border=\"1\" class=\"dataframe\">\n",
       "  <thead>\n",
       "    <tr style=\"text-align: right;\">\n",
       "      <th></th>\n",
       "      <th>status</th>\n",
       "      <th>amount</th>\n",
       "    </tr>\n",
       "  </thead>\n",
       "  <tbody>\n",
       "    <tr>\n",
       "      <th>0</th>\n",
       "      <td>Shipped</td>\n",
       "      <td>8865094.64</td>\n",
       "    </tr>\n",
       "    <tr>\n",
       "      <th>1</th>\n",
       "      <td>Resolved</td>\n",
       "      <td>134235.88</td>\n",
       "    </tr>\n",
       "    <tr>\n",
       "      <th>2</th>\n",
       "      <td>Cancelled</td>\n",
       "      <td>238854.18</td>\n",
       "    </tr>\n",
       "    <tr>\n",
       "      <th>3</th>\n",
       "      <td>On Hold</td>\n",
       "      <td>169575.61</td>\n",
       "    </tr>\n",
       "    <tr>\n",
       "      <th>4</th>\n",
       "      <td>Disputed</td>\n",
       "      <td>61158.78</td>\n",
       "    </tr>\n",
       "    <tr>\n",
       "      <th>5</th>\n",
       "      <td>In Process</td>\n",
       "      <td>135271.52</td>\n",
       "    </tr>\n",
       "  </tbody>\n",
       "</table>\n",
       "</div>"
      ],
      "text/plain": [
       "       status      amount\n",
       "0     Shipped  8865094.64\n",
       "1    Resolved   134235.88\n",
       "2   Cancelled   238854.18\n",
       "3     On Hold   169575.61\n",
       "4    Disputed    61158.78\n",
       "5  In Process   135271.52"
      ]
     },
     "execution_count": 14,
     "metadata": {},
     "output_type": "execute_result"
    }
   ],
   "source": [
    "sql_query = \"\"\"\n",
    "\n",
    "SELECT \n",
    "    status, \n",
    "    SUM(quantityOrdered * priceEach) AS amount \n",
    "FROM \n",
    "    orders \n",
    "    INNER JOIN orderdetails \n",
    "    USING (orderNumber) \n",
    "GROUP BY \n",
    "    status\n",
    "\n",
    "\"\"\"\n",
    "\n",
    "# Execute the query and display the results\n",
    "result_df = execute_query(sql_query)\n",
    "result_df"
   ]
  },
  {
   "cell_type": "markdown",
   "metadata": {},
   "source": [
    "___"
   ]
  },
  {
   "cell_type": "markdown",
   "metadata": {},
   "source": [
    "### Question 4  \n",
    "\n",
    "**Objective:** Use the `GROUP BY` clause with expressions to group and summarize data dynamically.\n",
    "\n",
    "**Task**  \n",
    "\n",
    "Using the `orders` and `orderdetails` tables, write a query to:  \n",
    "\n",
    "- Retrieve the year from `orderDate`.  \n",
    "- Calculate the total sales for each year by multiplying `quantityOrdered` with `priceEach`.  \n",
    "- Include only orders where the status is `'Shipped'`.  \n",
    "\n",
    "**Requirements**  \n",
    "\n",
    "- Use the `YEAR` function to extract the year from `orderDate`.  \n",
    "- Use the `SUM` function to calculate the total sales for each year.  \n",
    "- Use `INNER JOIN` to join `orders` and `orderdetails` tables.  \n",
    "- Use the `WHERE` clause to filter results to only include `'Shipped'` orders.  \n",
    "- Ensure that the expression in the `SELECT` clause matches the one in the `GROUP BY` clause.  \n",
    "\n",
    "**Solution**  \n",
    "\n",
    "```sql\n",
    "SELECT \n",
    "    YEAR(orderDate) AS year, \n",
    "    SUM(quantityOrdered * priceEach) AS total \n",
    "FROM \n",
    "    orders \n",
    "    INNER JOIN orderdetails USING (orderNumber) \n",
    "WHERE \n",
    "    status = 'Shipped' \n",
    "GROUP BY \n",
    "    YEAR(orderDate);\n",
    "```\n"
   ]
  },
  {
   "cell_type": "code",
   "execution_count": 15,
   "metadata": {},
   "outputs": [
    {
     "data": {
      "application/vnd.microsoft.datawrangler.viewer.v0+json": {
       "columns": [
        {
         "name": "index",
         "rawType": "int64",
         "type": "integer"
        },
        {
         "name": "year",
         "rawType": "int64",
         "type": "integer"
        },
        {
         "name": "total",
         "rawType": "object",
         "type": "unknown"
        }
       ],
       "conversionMethod": "pd.DataFrame",
       "ref": "32e565eb-f809-490a-a022-7443e00338a4",
       "rows": [
        [
         "0",
         "2003",
         "3223095.80"
        ],
        [
         "1",
         "2004",
         "4300602.99"
        ],
        [
         "2",
         "2005",
         "1341395.85"
        ]
       ],
       "shape": {
        "columns": 2,
        "rows": 3
       }
      },
      "text/html": [
       "<div>\n",
       "<style scoped>\n",
       "    .dataframe tbody tr th:only-of-type {\n",
       "        vertical-align: middle;\n",
       "    }\n",
       "\n",
       "    .dataframe tbody tr th {\n",
       "        vertical-align: top;\n",
       "    }\n",
       "\n",
       "    .dataframe thead th {\n",
       "        text-align: right;\n",
       "    }\n",
       "</style>\n",
       "<table border=\"1\" class=\"dataframe\">\n",
       "  <thead>\n",
       "    <tr style=\"text-align: right;\">\n",
       "      <th></th>\n",
       "      <th>year</th>\n",
       "      <th>total</th>\n",
       "    </tr>\n",
       "  </thead>\n",
       "  <tbody>\n",
       "    <tr>\n",
       "      <th>0</th>\n",
       "      <td>2003</td>\n",
       "      <td>3223095.80</td>\n",
       "    </tr>\n",
       "    <tr>\n",
       "      <th>1</th>\n",
       "      <td>2004</td>\n",
       "      <td>4300602.99</td>\n",
       "    </tr>\n",
       "    <tr>\n",
       "      <th>2</th>\n",
       "      <td>2005</td>\n",
       "      <td>1341395.85</td>\n",
       "    </tr>\n",
       "  </tbody>\n",
       "</table>\n",
       "</div>"
      ],
      "text/plain": [
       "   year       total\n",
       "0  2003  3223095.80\n",
       "1  2004  4300602.99\n",
       "2  2005  1341395.85"
      ]
     },
     "execution_count": 15,
     "metadata": {},
     "output_type": "execute_result"
    }
   ],
   "source": [
    "sql_query = \"\"\"\n",
    "\n",
    "SELECT \n",
    "    YEAR(orderDate) AS year, \n",
    "    SUM(quantityOrdered * priceEach) AS total \n",
    "FROM \n",
    "    orders \n",
    "    INNER JOIN orderdetails USING (orderNumber) \n",
    "WHERE \n",
    "    status = 'Shipped' \n",
    "GROUP BY \n",
    "    YEAR(orderDate);\n",
    "\n",
    "\"\"\"\n",
    "\n",
    "# Execute the query and display the results\n",
    "result_df = execute_query(sql_query)\n",
    "result_df"
   ]
  },
  {
   "cell_type": "markdown",
   "metadata": {},
   "source": [
    "----"
   ]
  },
  {
   "cell_type": "markdown",
   "metadata": {},
   "source": [
    "### Question 5  \n",
    "\n",
    "**Objective:** Filter grouped results using the `HAVING` clause.\n",
    "\n",
    "**Task**  \n",
    "\n",
    "Using the `orders` and `orderdetails` tables, write a query to:  \n",
    "\n",
    "- Retrieve the year from `orderDate`.  \n",
    "- Calculate the total sales for each year by multiplying `quantityOrdered` with `priceEach`.  \n",
    "- Include only orders where the status is `'Shipped'`.  \n",
    "- Filter the results to show only years after 2003.  \n",
    "\n",
    "**Requirements**  \n",
    "\n",
    "- Use the `YEAR` function to extract the year from `orderDate`.  \n",
    "- Use the `SUM` function to calculate the total sales for each year.  \n",
    "- Use `INNER JOIN` to join `orders` and `orderdetails` tables.  \n",
    "- Use the `WHERE` clause to filter results to only include `'Shipped'` orders.  \n",
    "- Use the `HAVING` clause to filter results where the year is greater than 2003.  \n",
    "\n",
    "**Solution**  \n",
    "\n",
    "```sql\n",
    "SELECT \n",
    "    YEAR(orderDate) AS year, \n",
    "    SUM(quantityOrdered * priceEach) AS total \n",
    "FROM \n",
    "    orders \n",
    "    INNER JOIN orderdetails USING (orderNumber) \n",
    "WHERE \n",
    "    status = 'Shipped' \n",
    "GROUP BY \n",
    "    YEAR(orderDate) \n",
    "HAVING \n",
    "    YEAR(orderDate) > 2003;\n",
    "```\n"
   ]
  },
  {
   "cell_type": "code",
   "execution_count": 10,
   "metadata": {},
   "outputs": [
    {
     "data": {
      "application/vnd.microsoft.datawrangler.viewer.v0+json": {
       "columns": [
        {
         "name": "index",
         "rawType": "int64",
         "type": "integer"
        },
        {
         "name": "year",
         "rawType": "int64",
         "type": "integer"
        },
        {
         "name": "Total_Amount",
         "rawType": "object",
         "type": "unknown"
        }
       ],
       "conversionMethod": "pd.DataFrame",
       "ref": "438b3309-be8a-43df-ae61-e08fb7a63d7d",
       "rows": [
        [
         "0",
         "2003",
         "3223095.80"
        ],
        [
         "1",
         "2004",
         "4300602.99"
        ],
        [
         "2",
         "2005",
         "1341395.85"
        ]
       ],
       "shape": {
        "columns": 2,
        "rows": 3
       }
      },
      "text/html": [
       "<div>\n",
       "<style scoped>\n",
       "    .dataframe tbody tr th:only-of-type {\n",
       "        vertical-align: middle;\n",
       "    }\n",
       "\n",
       "    .dataframe tbody tr th {\n",
       "        vertical-align: top;\n",
       "    }\n",
       "\n",
       "    .dataframe thead th {\n",
       "        text-align: right;\n",
       "    }\n",
       "</style>\n",
       "<table border=\"1\" class=\"dataframe\">\n",
       "  <thead>\n",
       "    <tr style=\"text-align: right;\">\n",
       "      <th></th>\n",
       "      <th>year</th>\n",
       "      <th>Total_Amount</th>\n",
       "    </tr>\n",
       "  </thead>\n",
       "  <tbody>\n",
       "    <tr>\n",
       "      <th>0</th>\n",
       "      <td>2003</td>\n",
       "      <td>3223095.80</td>\n",
       "    </tr>\n",
       "    <tr>\n",
       "      <th>1</th>\n",
       "      <td>2004</td>\n",
       "      <td>4300602.99</td>\n",
       "    </tr>\n",
       "    <tr>\n",
       "      <th>2</th>\n",
       "      <td>2005</td>\n",
       "      <td>1341395.85</td>\n",
       "    </tr>\n",
       "  </tbody>\n",
       "</table>\n",
       "</div>"
      ],
      "text/plain": [
       "   year Total_Amount\n",
       "0  2003   3223095.80\n",
       "1  2004   4300602.99\n",
       "2  2005   1341395.85"
      ]
     },
     "execution_count": 10,
     "metadata": {},
     "output_type": "execute_result"
    }
   ],
   "source": [
    "sql_query = \"\"\"\n",
    "\n",
    "   SELECT\n",
    "        year(orderDate) as year,\n",
    "        sum(quantityOrdered * priceEach) as Total_Amount\n",
    "    FROM\n",
    "        orders\n",
    "    inner JOIN\n",
    "        orderdetails\n",
    "    USING(orderNumber)\n",
    "    WHERE\n",
    "        status = 'Shipped'\n",
    "    GROUP BY\n",
    "        year\n",
    "    HAVING\n",
    "        Total_Amount > 10000\n",
    "\n",
    "\"\"\"\n",
    "\n",
    "# Execute the query and display the results\n",
    "result_df = execute_query(sql_query)\n",
    "result_df"
   ]
  },
  {
   "cell_type": "markdown",
   "metadata": {},
   "source": [
    "___"
   ]
  },
  {
   "cell_type": "markdown",
   "metadata": {},
   "source": [
    "### Question 6  \n",
    "\n",
    "**Objective:** Group data by multiple columns to get detailed aggregation results.\n",
    "\n",
    "**Task**  \n",
    "\n",
    "Using the `orders` and `orderdetails` tables, write a query to:  \n",
    "\n",
    "- Retrieve the year from `orderDate`.  \n",
    "- Retrieve the `status` of orders.  \n",
    "- Calculate the total sales for each combination of year and order status.  \n",
    "\n",
    "**Requirements**  \n",
    "\n",
    "- Use the `YEAR` function to extract the year from `orderDate`.  \n",
    "- Use the `SUM` function to calculate the total sales for each group.  \n",
    "- Use `INNER JOIN` to join `orders` and `orderdetails` tables.  \n",
    "- Use `GROUP BY` with both `YEAR(orderDate)` and `status`.  \n",
    "- Use `ORDER BY` to sort the results by year.  \n",
    "\n",
    "**Solution**  \n",
    "\n",
    "```sql\n",
    "SELECT \n",
    "    YEAR(orderDate) AS year, \n",
    "    status, \n",
    "    SUM(quantityOrdered * priceEach) AS total \n",
    "FROM \n",
    "    orders \n",
    "    INNER JOIN orderdetails USING (orderNumber) \n",
    "GROUP BY \n",
    "    YEAR(orderDate), \n",
    "    status \n",
    "ORDER BY \n",
    "    YEAR(orderDate);\n",
    "```\n"
   ]
  },
  {
   "cell_type": "code",
   "execution_count": 11,
   "metadata": {},
   "outputs": [
    {
     "data": {
      "application/vnd.microsoft.datawrangler.viewer.v0+json": {
       "columns": [
        {
         "name": "index",
         "rawType": "int64",
         "type": "integer"
        },
        {
         "name": "year",
         "rawType": "int64",
         "type": "integer"
        },
        {
         "name": "status",
         "rawType": "object",
         "type": "string"
        },
        {
         "name": "total",
         "rawType": "object",
         "type": "unknown"
        }
       ],
       "conversionMethod": "pd.DataFrame",
       "ref": "a221a7a8-434e-4b22-a4db-15bfd16f5da8",
       "rows": [
        [
         "0",
         "2003",
         "Cancelled",
         "67130.69"
        ],
        [
         "1",
         "2003",
         "Resolved",
         "27121.90"
        ],
        [
         "2",
         "2003",
         "Shipped",
         "3223095.80"
        ],
        [
         "3",
         "2004",
         "Cancelled",
         "171723.49"
        ],
        [
         "4",
         "2004",
         "On Hold",
         "23014.17"
        ],
        [
         "5",
         "2004",
         "Resolved",
         "20564.86"
        ],
        [
         "6",
         "2004",
         "Shipped",
         "4300602.99"
        ],
        [
         "7",
         "2005",
         "Disputed",
         "61158.78"
        ],
        [
         "8",
         "2005",
         "In Process",
         "135271.52"
        ],
        [
         "9",
         "2005",
         "On Hold",
         "146561.44"
        ],
        [
         "10",
         "2005",
         "Resolved",
         "86549.12"
        ],
        [
         "11",
         "2005",
         "Shipped",
         "1341395.85"
        ]
       ],
       "shape": {
        "columns": 3,
        "rows": 12
       }
      },
      "text/html": [
       "<div>\n",
       "<style scoped>\n",
       "    .dataframe tbody tr th:only-of-type {\n",
       "        vertical-align: middle;\n",
       "    }\n",
       "\n",
       "    .dataframe tbody tr th {\n",
       "        vertical-align: top;\n",
       "    }\n",
       "\n",
       "    .dataframe thead th {\n",
       "        text-align: right;\n",
       "    }\n",
       "</style>\n",
       "<table border=\"1\" class=\"dataframe\">\n",
       "  <thead>\n",
       "    <tr style=\"text-align: right;\">\n",
       "      <th></th>\n",
       "      <th>year</th>\n",
       "      <th>status</th>\n",
       "      <th>total</th>\n",
       "    </tr>\n",
       "  </thead>\n",
       "  <tbody>\n",
       "    <tr>\n",
       "      <th>0</th>\n",
       "      <td>2003</td>\n",
       "      <td>Cancelled</td>\n",
       "      <td>67130.69</td>\n",
       "    </tr>\n",
       "    <tr>\n",
       "      <th>1</th>\n",
       "      <td>2003</td>\n",
       "      <td>Resolved</td>\n",
       "      <td>27121.90</td>\n",
       "    </tr>\n",
       "    <tr>\n",
       "      <th>2</th>\n",
       "      <td>2003</td>\n",
       "      <td>Shipped</td>\n",
       "      <td>3223095.80</td>\n",
       "    </tr>\n",
       "    <tr>\n",
       "      <th>3</th>\n",
       "      <td>2004</td>\n",
       "      <td>Cancelled</td>\n",
       "      <td>171723.49</td>\n",
       "    </tr>\n",
       "    <tr>\n",
       "      <th>4</th>\n",
       "      <td>2004</td>\n",
       "      <td>On Hold</td>\n",
       "      <td>23014.17</td>\n",
       "    </tr>\n",
       "    <tr>\n",
       "      <th>5</th>\n",
       "      <td>2004</td>\n",
       "      <td>Resolved</td>\n",
       "      <td>20564.86</td>\n",
       "    </tr>\n",
       "    <tr>\n",
       "      <th>6</th>\n",
       "      <td>2004</td>\n",
       "      <td>Shipped</td>\n",
       "      <td>4300602.99</td>\n",
       "    </tr>\n",
       "    <tr>\n",
       "      <th>7</th>\n",
       "      <td>2005</td>\n",
       "      <td>Disputed</td>\n",
       "      <td>61158.78</td>\n",
       "    </tr>\n",
       "    <tr>\n",
       "      <th>8</th>\n",
       "      <td>2005</td>\n",
       "      <td>In Process</td>\n",
       "      <td>135271.52</td>\n",
       "    </tr>\n",
       "    <tr>\n",
       "      <th>9</th>\n",
       "      <td>2005</td>\n",
       "      <td>On Hold</td>\n",
       "      <td>146561.44</td>\n",
       "    </tr>\n",
       "    <tr>\n",
       "      <th>10</th>\n",
       "      <td>2005</td>\n",
       "      <td>Resolved</td>\n",
       "      <td>86549.12</td>\n",
       "    </tr>\n",
       "    <tr>\n",
       "      <th>11</th>\n",
       "      <td>2005</td>\n",
       "      <td>Shipped</td>\n",
       "      <td>1341395.85</td>\n",
       "    </tr>\n",
       "  </tbody>\n",
       "</table>\n",
       "</div>"
      ],
      "text/plain": [
       "    year      status       total\n",
       "0   2003   Cancelled    67130.69\n",
       "1   2003    Resolved    27121.90\n",
       "2   2003     Shipped  3223095.80\n",
       "3   2004   Cancelled   171723.49\n",
       "4   2004     On Hold    23014.17\n",
       "5   2004    Resolved    20564.86\n",
       "6   2004     Shipped  4300602.99\n",
       "7   2005    Disputed    61158.78\n",
       "8   2005  In Process   135271.52\n",
       "9   2005     On Hold   146561.44\n",
       "10  2005    Resolved    86549.12\n",
       "11  2005     Shipped  1341395.85"
      ]
     },
     "execution_count": 11,
     "metadata": {},
     "output_type": "execute_result"
    }
   ],
   "source": [
    "sql_query = \"\"\"\n",
    "\n",
    "SELECT \n",
    "    YEAR(orderDate) AS year, \n",
    "    status, \n",
    "    SUM(quantityOrdered * priceEach) AS total \n",
    "FROM \n",
    "    orders \n",
    "    INNER JOIN orderdetails USING (orderNumber) \n",
    "GROUP BY \n",
    "    YEAR(orderDate), \n",
    "    status \n",
    "ORDER BY \n",
    "    YEAR(orderDate);\n",
    "\"\"\"\n",
    "\n",
    "# Execute the query and display the results\n",
    "result_df = execute_query(sql_query)\n",
    "result_df"
   ]
  },
  {
   "cell_type": "markdown",
   "metadata": {},
   "source": [
    "### Summary and Personal Reflection\n",
    "____\n",
    "\n",
    "This notebook has demonstrated the power of the `GROUP BY` clause in SQL, showcasing its ability to categorize, aggregate, and summarize data effectively. By combining `GROUP BY` with aggregate functions like `COUNT`, `SUM`, and `YEAR`, we can generate valuable insights from complex datasets, such as total sales by year or order status.\n",
    "\n",
    "In my experience, mastering `GROUP BY` is essential for any SQL practitioner, as it enables us to organize and analyze data efficiently, providing a solid foundation for advanced queries and data manipulation tasks. By practicing these exercises, I have honed my SQL skills and gained a deeper understanding of how to leverage `GROUP BY` for insightful data analysis.\n",
    "\n",
    "I hope you found this notebook informative and engaging. Feel free to explore the other notebooks in this series to discover more SQL projects and enhance your database skills. Thank you for reading!\n"
   ]
  }
 ],
 "metadata": {
  "kernelspec": {
   "display_name": "data-science-env",
   "language": "python",
   "name": "python3"
  },
  "language_info": {
   "codemirror_mode": {
    "name": "ipython",
    "version": 3
   },
   "file_extension": ".py",
   "mimetype": "text/x-python",
   "name": "python",
   "nbconvert_exporter": "python",
   "pygments_lexer": "ipython3",
   "version": "3.12.6"
  }
 },
 "nbformat": 4,
 "nbformat_minor": 2
}
