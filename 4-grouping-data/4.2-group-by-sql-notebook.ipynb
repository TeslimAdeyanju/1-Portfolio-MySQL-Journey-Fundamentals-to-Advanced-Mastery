{
 "cells": [
  {
   "cell_type": "markdown",
   "metadata": {},
   "source": [
    "# 📚 SQL HAVING\n",
    "___\n",
    "\n",
    "<div style=\"font-family: Avenir, sans-serif; font-size: 16px; line-height: 1.6; color: white; background-color: #333; padding: 10px; border-radius: 5px;\">\n",
    "This series of notebooks is a collection of my SQL projects. I have been working with SQL for a few years now and I have been using it in various projects. I have decided to create this portfolio to showcase my SQL skills. I hope you enjoy it!\n",
    "\n",
    "</div>"
   ]
  },
  {
   "cell_type": "markdown",
   "metadata": {},
   "source": [
    "Welcome to my SQL portfolio! This notebook delves into HAVING combine with GROUP BY, demonstrating my understanding of key SQL concepts, including:\n",
    "\n",
    "- Using **aliases** for enhanced readability and clarity\n",
    "- Performing **Right Joins** to combine data from multiple tables with specified conditions\n",
    "- Leveraging **aggregations** to summarize data insights\n",
    "- Filtering aggregated results with **HAVING clauses** for precise queries\n",
    "\n",
    "To showcase the practical applications of SQL in data analysis and database management, I’ve integrated Python to connect to the database, execute SQL queries, and display results directly within this notebook.\n",
    "\n",
    "### Database Overview\n",
    "\n",
    "This notebook utilizes the `classicmodels` sample database, which includes key tables like **customers**, **orders**, **products**, and **orderdetails**. These tables represent real-world relationships among customers, products, and sales orders, providing a realistic foundation for practicing SQL join operations.\n",
    "\n",
    "### Key Tables and Columns:\n",
    "\n",
    "- **customers**: `customerNumber`, `customerName`, `contactLastName`, `contactFirstName`\n",
    "- **orders**: `orderNumber`, `orderDate`, `customerNumber`\n",
    "- **orderdetails**: `orderNumber`, `productCode`, `quantityOrdered`, `priceEach`\n",
    "- **products**: `productCode`, `productName`, `productLine`, `msrp`\n",
    "\n",
    "By combining SQL techniques with Python's database connectivity, this portfolio demonstrates efficient ways to perform business data analysis and streamline insights into customer orders, products, and sales."
   ]
  },
  {
   "cell_type": "code",
   "execution_count": 7,
   "metadata": {},
   "outputs": [],
   "source": [
    "# Import necessary libraries\n",
    "import mysql.connector\n",
    "import pandas as pd\n",
    "\n",
    "# Establish database connection\n",
    "connection = mysql.connector.connect(\n",
    "    user='root',\n",
    "    password='Password1234',\n",
    "    host='localhost',\n",
    "    database='classicmodels'\n",
    ")\n",
    "\n",
    "# Function to execute SQL queries and display results\n",
    "def execute_query(query):\n",
    "    cursor = connection.cursor()\n",
    "    cursor.execute(query)\n",
    "    \n",
    "    # Fetch results and convert to a DataFrame\n",
    "    result = cursor.fetchall()\n",
    "    columns = [desc[0] for desc in cursor.description]  # Column names\n",
    "    \n",
    "    # Close cursor after execution\n",
    "    cursor.close()\n",
    "    return pd.DataFrame(result, columns=columns)\n"
   ]
  },
  {
   "cell_type": "markdown",
   "metadata": {},
   "source": [
    "____"
   ]
  },
  {
   "cell_type": "markdown",
   "metadata": {},
   "source": [
    "### HAVING with GROUP BY syntax"
   ]
  },
  {
   "cell_type": "code",
   "execution_count": null,
   "metadata": {},
   "outputs": [],
   "source": [
    "SELECT \n",
    "  column1, \n",
    "  column2, \n",
    "  column3, \n",
    "  aggregate_function(column4)\n",
    "FROM \n",
    "  table_name \n",
    "WHERE \n",
    "  condition_statement\n",
    "GROUP BY\n",
    " column1, column2, column3\n",
    "HAVING\n",
    "  group_conditions;"
   ]
  },
  {
   "cell_type": "markdown",
   "metadata": {},
   "source": [
    "___"
   ]
  },
  {
   "cell_type": "markdown",
   "metadata": {},
   "source": [
    "### Question 1  \n",
    "\n",
    "**Objective:** Use the `GROUP BY` clause to summarize sales data and apply the `HAVING` clause to filter results.\n",
    "\n",
    "**Task**  \n",
    "\n",
    "Using the `orderdetails` table, write a query to:  \n",
    "\n",
    "- Retrieve the order numbers.  \n",
    "- Calculate the total number of items sold per order.  \n",
    "- Calculate the total sales for each order.  \n",
    "\n",
    "**Requirements**  \n",
    "\n",
    "- Use the `SUM` function to calculate total items sold and total sales amount per order.  \n",
    "- Use the `GROUP BY` clause to group results by `orderNumber`.  \n",
    "\n",
    "**Solution**  \n",
    "\n",
    "```sql\n",
    "SELECT\n",
    "    ordernumber,\n",
    "    SUM(quantityOrdered) AS items_Count,\n",
    "    SUM(quantityOrdered * priceEach) AS Total_Amount\n",
    "FROM\n",
    "    orderdetails\n",
    "GROUP BY\n",
    "    orderNumber;\n",
    "```\n"
   ]
  },
  {
   "cell_type": "code",
   "execution_count": 2,
   "metadata": {},
   "outputs": [
    {
     "data": {
      "application/vnd.microsoft.datawrangler.viewer.v0+json": {
       "columns": [
        {
         "name": "index",
         "rawType": "int64",
         "type": "integer"
        },
        {
         "name": "ordernumber",
         "rawType": "int64",
         "type": "integer"
        },
        {
         "name": "items_Count",
         "rawType": "object",
         "type": "unknown"
        },
        {
         "name": "Total_Amount",
         "rawType": "object",
         "type": "unknown"
        }
       ],
       "conversionMethod": "pd.DataFrame",
       "ref": "70ab17f7-91a7-4cbd-9e83-304bc0f9b307",
       "rows": [
        [
         "0",
         "10100",
         "151",
         "10223.83"
        ],
        [
         "1",
         "10101",
         "142",
         "10549.01"
        ],
        [
         "2",
         "10102",
         "80",
         "5494.78"
        ],
        [
         "3",
         "10103",
         "541",
         "50218.95"
        ],
        [
         "4",
         "10104",
         "443",
         "40206.20"
        ],
        [
         "5",
         "10105",
         "545",
         "53959.21"
        ],
        [
         "6",
         "10106",
         "675",
         "52151.81"
        ],
        [
         "7",
         "10107",
         "229",
         "22292.62"
        ],
        [
         "8",
         "10108",
         "561",
         "51001.22"
        ],
        [
         "9",
         "10109",
         "212",
         "25833.14"
        ],
        [
         "10",
         "10110",
         "570",
         "48425.69"
        ],
        [
         "11",
         "10111",
         "217",
         "16537.85"
        ],
        [
         "12",
         "10112",
         "52",
         "7674.94"
        ],
        [
         "13",
         "10113",
         "143",
         "11044.30"
        ],
        [
         "14",
         "10114",
         "351",
         "33383.14"
        ],
        [
         "15",
         "10115",
         "210",
         "21665.98"
        ],
        [
         "16",
         "10116",
         "27",
         "1627.56"
        ],
        [
         "17",
         "10117",
         "402",
         "44380.15"
        ],
        [
         "18",
         "10118",
         "36",
         "3101.40"
        ],
        [
         "19",
         "10119",
         "442",
         "35826.33"
        ],
        [
         "20",
         "10120",
         "525",
         "45864.03"
        ],
        [
         "21",
         "10121",
         "185",
         "16700.47"
        ],
        [
         "22",
         "10122",
         "545",
         "50824.66"
        ],
        [
         "23",
         "10123",
         "156",
         "14571.44"
        ],
        [
         "24",
         "10124",
         "448",
         "32641.98"
        ],
        [
         "25",
         "10125",
         "66",
         "7565.08"
        ],
        [
         "26",
         "10126",
         "617",
         "57131.92"
        ],
        [
         "27",
         "10127",
         "540",
         "58841.35"
        ],
        [
         "28",
         "10128",
         "157",
         "13884.99"
        ],
        [
         "29",
         "10129",
         "349",
         "29429.14"
        ],
        [
         "30",
         "10130",
         "73",
         "6036.96"
        ],
        [
         "31",
         "10131",
         "244",
         "17032.29"
        ],
        [
         "32",
         "10132",
         "36",
         "2880.00"
        ],
        [
         "33",
         "10133",
         "286",
         "22366.04"
        ],
        [
         "34",
         "10134",
         "227",
         "23419.47"
        ],
        [
         "35",
         "10135",
         "607",
         "55601.84"
        ],
        [
         "36",
         "10136",
         "102",
         "14232.70"
        ],
        [
         "37",
         "10137",
         "138",
         "13920.26"
        ],
        [
         "38",
         "10138",
         "420",
         "32077.44"
        ],
        [
         "39",
         "10139",
         "266",
         "24013.52"
        ],
        [
         "40",
         "10140",
         "385",
         "38675.13"
        ],
        [
         "41",
         "10141",
         "290",
         "29716.86"
        ],
        [
         "42",
         "10142",
         "577",
         "56052.56"
        ],
        [
         "43",
         "10143",
         "524",
         "41016.75"
        ],
        [
         "44",
         "10144",
         "20",
         "1128.20"
        ],
        [
         "45",
         "10145",
         "563",
         "50342.74"
        ],
        [
         "46",
         "10146",
         "76",
         "6631.36"
        ],
        [
         "47",
         "10147",
         "341",
         "32680.31"
        ],
        [
         "48",
         "10148",
         "430",
         "41554.73"
        ],
        [
         "49",
         "10149",
         "367",
         "29997.09"
        ]
       ],
       "shape": {
        "columns": 3,
        "rows": 326
       }
      },
      "text/html": [
       "<div>\n",
       "<style scoped>\n",
       "    .dataframe tbody tr th:only-of-type {\n",
       "        vertical-align: middle;\n",
       "    }\n",
       "\n",
       "    .dataframe tbody tr th {\n",
       "        vertical-align: top;\n",
       "    }\n",
       "\n",
       "    .dataframe thead th {\n",
       "        text-align: right;\n",
       "    }\n",
       "</style>\n",
       "<table border=\"1\" class=\"dataframe\">\n",
       "  <thead>\n",
       "    <tr style=\"text-align: right;\">\n",
       "      <th></th>\n",
       "      <th>ordernumber</th>\n",
       "      <th>items_Count</th>\n",
       "      <th>Total_Amount</th>\n",
       "    </tr>\n",
       "  </thead>\n",
       "  <tbody>\n",
       "    <tr>\n",
       "      <th>0</th>\n",
       "      <td>10100</td>\n",
       "      <td>151</td>\n",
       "      <td>10223.83</td>\n",
       "    </tr>\n",
       "    <tr>\n",
       "      <th>1</th>\n",
       "      <td>10101</td>\n",
       "      <td>142</td>\n",
       "      <td>10549.01</td>\n",
       "    </tr>\n",
       "    <tr>\n",
       "      <th>2</th>\n",
       "      <td>10102</td>\n",
       "      <td>80</td>\n",
       "      <td>5494.78</td>\n",
       "    </tr>\n",
       "    <tr>\n",
       "      <th>3</th>\n",
       "      <td>10103</td>\n",
       "      <td>541</td>\n",
       "      <td>50218.95</td>\n",
       "    </tr>\n",
       "    <tr>\n",
       "      <th>4</th>\n",
       "      <td>10104</td>\n",
       "      <td>443</td>\n",
       "      <td>40206.20</td>\n",
       "    </tr>\n",
       "    <tr>\n",
       "      <th>...</th>\n",
       "      <td>...</td>\n",
       "      <td>...</td>\n",
       "      <td>...</td>\n",
       "    </tr>\n",
       "    <tr>\n",
       "      <th>321</th>\n",
       "      <td>10421</td>\n",
       "      <td>75</td>\n",
       "      <td>7639.10</td>\n",
       "    </tr>\n",
       "    <tr>\n",
       "      <th>322</th>\n",
       "      <td>10422</td>\n",
       "      <td>76</td>\n",
       "      <td>5849.44</td>\n",
       "    </tr>\n",
       "    <tr>\n",
       "      <th>323</th>\n",
       "      <td>10423</td>\n",
       "      <td>111</td>\n",
       "      <td>8597.73</td>\n",
       "    </tr>\n",
       "    <tr>\n",
       "      <th>324</th>\n",
       "      <td>10424</td>\n",
       "      <td>269</td>\n",
       "      <td>29310.30</td>\n",
       "    </tr>\n",
       "    <tr>\n",
       "      <th>325</th>\n",
       "      <td>10425</td>\n",
       "      <td>427</td>\n",
       "      <td>41623.44</td>\n",
       "    </tr>\n",
       "  </tbody>\n",
       "</table>\n",
       "<p>326 rows × 3 columns</p>\n",
       "</div>"
      ],
      "text/plain": [
       "     ordernumber items_Count Total_Amount\n",
       "0          10100         151     10223.83\n",
       "1          10101         142     10549.01\n",
       "2          10102          80      5494.78\n",
       "3          10103         541     50218.95\n",
       "4          10104         443     40206.20\n",
       "..           ...         ...          ...\n",
       "321        10421          75      7639.10\n",
       "322        10422          76      5849.44\n",
       "323        10423         111      8597.73\n",
       "324        10424         269     29310.30\n",
       "325        10425         427     41623.44\n",
       "\n",
       "[326 rows x 3 columns]"
      ]
     },
     "execution_count": 2,
     "metadata": {},
     "output_type": "execute_result"
    }
   ],
   "source": [
    "sql_query = \"\"\"\n",
    "\n",
    "SELECT\n",
    "    ordernumber,\n",
    "    SUM(quantityOrdered) AS items_Count,\n",
    "    SUM(quantityOrdered * priceEach) AS Total_Amount\n",
    "FROM\n",
    "    orderdetails\n",
    "GROUP BY\n",
    "    orderNumber;\n",
    "\n",
    "\"\"\"\n",
    "\n",
    "# Execute the query and display the results\n",
    "result_df = execute_query(sql_query)\n",
    "result_df"
   ]
  },
  {
   "cell_type": "markdown",
   "metadata": {},
   "source": [
    "___"
   ]
  },
  {
   "cell_type": "markdown",
   "metadata": {},
   "source": [
    "### Question 2  \n",
    "\n",
    "**Objective:** Filter grouped results using the `HAVING` clause to find high-value orders.\n",
    "\n",
    "**Task**  \n",
    "\n",
    "Using the `orderdetails` table, write a query to:  \n",
    "\n",
    "- Retrieve order numbers where total sales exceed `1000`.  \n",
    "- Calculate the total sales for each order.  \n",
    "\n",
    "**Requirements**  \n",
    "\n",
    "- Use the `SUM` function to calculate total sales per order.  \n",
    "- Use the `GROUP BY` clause to group results by `orderNumber`.  \n",
    "- Use the `HAVING` clause to filter orders with total sales greater than `1000`.  \n",
    "\n",
    "**Solution**  \n",
    "\n",
    "```sql\n",
    "SELECT\n",
    "    ordernumber,\n",
    "    SUM(quantityOrdered * priceEach) AS Total_Amount\n",
    "FROM\n",
    "    orderdetails\n",
    "GROUP BY\n",
    "    orderNumber\n",
    "HAVING\n",
    "    Total_Amount > 1000;\n",
    "\n",
    "```"
   ]
  },
  {
   "cell_type": "code",
   "execution_count": 3,
   "metadata": {},
   "outputs": [
    {
     "data": {
      "application/vnd.microsoft.datawrangler.viewer.v0+json": {
       "columns": [
        {
         "name": "index",
         "rawType": "int64",
         "type": "integer"
        },
        {
         "name": "ordernumber",
         "rawType": "int64",
         "type": "integer"
        },
        {
         "name": "Total_Amount",
         "rawType": "object",
         "type": "unknown"
        }
       ],
       "conversionMethod": "pd.DataFrame",
       "ref": "e416919d-8a17-4216-9621-46c82bec5e84",
       "rows": [
        [
         "0",
         "10100",
         "10223.83"
        ],
        [
         "1",
         "10101",
         "10549.01"
        ],
        [
         "2",
         "10102",
         "5494.78"
        ],
        [
         "3",
         "10103",
         "50218.95"
        ],
        [
         "4",
         "10104",
         "40206.20"
        ],
        [
         "5",
         "10105",
         "53959.21"
        ],
        [
         "6",
         "10106",
         "52151.81"
        ],
        [
         "7",
         "10107",
         "22292.62"
        ],
        [
         "8",
         "10108",
         "51001.22"
        ],
        [
         "9",
         "10109",
         "25833.14"
        ],
        [
         "10",
         "10110",
         "48425.69"
        ],
        [
         "11",
         "10111",
         "16537.85"
        ],
        [
         "12",
         "10112",
         "7674.94"
        ],
        [
         "13",
         "10113",
         "11044.30"
        ],
        [
         "14",
         "10114",
         "33383.14"
        ],
        [
         "15",
         "10115",
         "21665.98"
        ],
        [
         "16",
         "10116",
         "1627.56"
        ],
        [
         "17",
         "10117",
         "44380.15"
        ],
        [
         "18",
         "10118",
         "3101.40"
        ],
        [
         "19",
         "10119",
         "35826.33"
        ],
        [
         "20",
         "10120",
         "45864.03"
        ],
        [
         "21",
         "10121",
         "16700.47"
        ],
        [
         "22",
         "10122",
         "50824.66"
        ],
        [
         "23",
         "10123",
         "14571.44"
        ],
        [
         "24",
         "10124",
         "32641.98"
        ],
        [
         "25",
         "10125",
         "7565.08"
        ],
        [
         "26",
         "10126",
         "57131.92"
        ],
        [
         "27",
         "10127",
         "58841.35"
        ],
        [
         "28",
         "10128",
         "13884.99"
        ],
        [
         "29",
         "10129",
         "29429.14"
        ],
        [
         "30",
         "10130",
         "6036.96"
        ],
        [
         "31",
         "10131",
         "17032.29"
        ],
        [
         "32",
         "10132",
         "2880.00"
        ],
        [
         "33",
         "10133",
         "22366.04"
        ],
        [
         "34",
         "10134",
         "23419.47"
        ],
        [
         "35",
         "10135",
         "55601.84"
        ],
        [
         "36",
         "10136",
         "14232.70"
        ],
        [
         "37",
         "10137",
         "13920.26"
        ],
        [
         "38",
         "10138",
         "32077.44"
        ],
        [
         "39",
         "10139",
         "24013.52"
        ],
        [
         "40",
         "10140",
         "38675.13"
        ],
        [
         "41",
         "10141",
         "29716.86"
        ],
        [
         "42",
         "10142",
         "56052.56"
        ],
        [
         "43",
         "10143",
         "41016.75"
        ],
        [
         "44",
         "10144",
         "1128.20"
        ],
        [
         "45",
         "10145",
         "50342.74"
        ],
        [
         "46",
         "10146",
         "6631.36"
        ],
        [
         "47",
         "10147",
         "32680.31"
        ],
        [
         "48",
         "10148",
         "41554.73"
        ],
        [
         "49",
         "10149",
         "29997.09"
        ]
       ],
       "shape": {
        "columns": 2,
        "rows": 325
       }
      },
      "text/html": [
       "<div>\n",
       "<style scoped>\n",
       "    .dataframe tbody tr th:only-of-type {\n",
       "        vertical-align: middle;\n",
       "    }\n",
       "\n",
       "    .dataframe tbody tr th {\n",
       "        vertical-align: top;\n",
       "    }\n",
       "\n",
       "    .dataframe thead th {\n",
       "        text-align: right;\n",
       "    }\n",
       "</style>\n",
       "<table border=\"1\" class=\"dataframe\">\n",
       "  <thead>\n",
       "    <tr style=\"text-align: right;\">\n",
       "      <th></th>\n",
       "      <th>ordernumber</th>\n",
       "      <th>Total_Amount</th>\n",
       "    </tr>\n",
       "  </thead>\n",
       "  <tbody>\n",
       "    <tr>\n",
       "      <th>0</th>\n",
       "      <td>10100</td>\n",
       "      <td>10223.83</td>\n",
       "    </tr>\n",
       "    <tr>\n",
       "      <th>1</th>\n",
       "      <td>10101</td>\n",
       "      <td>10549.01</td>\n",
       "    </tr>\n",
       "    <tr>\n",
       "      <th>2</th>\n",
       "      <td>10102</td>\n",
       "      <td>5494.78</td>\n",
       "    </tr>\n",
       "    <tr>\n",
       "      <th>3</th>\n",
       "      <td>10103</td>\n",
       "      <td>50218.95</td>\n",
       "    </tr>\n",
       "    <tr>\n",
       "      <th>4</th>\n",
       "      <td>10104</td>\n",
       "      <td>40206.20</td>\n",
       "    </tr>\n",
       "    <tr>\n",
       "      <th>...</th>\n",
       "      <td>...</td>\n",
       "      <td>...</td>\n",
       "    </tr>\n",
       "    <tr>\n",
       "      <th>320</th>\n",
       "      <td>10421</td>\n",
       "      <td>7639.10</td>\n",
       "    </tr>\n",
       "    <tr>\n",
       "      <th>321</th>\n",
       "      <td>10422</td>\n",
       "      <td>5849.44</td>\n",
       "    </tr>\n",
       "    <tr>\n",
       "      <th>322</th>\n",
       "      <td>10423</td>\n",
       "      <td>8597.73</td>\n",
       "    </tr>\n",
       "    <tr>\n",
       "      <th>323</th>\n",
       "      <td>10424</td>\n",
       "      <td>29310.30</td>\n",
       "    </tr>\n",
       "    <tr>\n",
       "      <th>324</th>\n",
       "      <td>10425</td>\n",
       "      <td>41623.44</td>\n",
       "    </tr>\n",
       "  </tbody>\n",
       "</table>\n",
       "<p>325 rows × 2 columns</p>\n",
       "</div>"
      ],
      "text/plain": [
       "     ordernumber Total_Amount\n",
       "0          10100     10223.83\n",
       "1          10101     10549.01\n",
       "2          10102      5494.78\n",
       "3          10103     50218.95\n",
       "4          10104     40206.20\n",
       "..           ...          ...\n",
       "320        10421      7639.10\n",
       "321        10422      5849.44\n",
       "322        10423      8597.73\n",
       "323        10424     29310.30\n",
       "324        10425     41623.44\n",
       "\n",
       "[325 rows x 2 columns]"
      ]
     },
     "execution_count": 3,
     "metadata": {},
     "output_type": "execute_result"
    }
   ],
   "source": [
    "sql_query = \"\"\"\n",
    "\n",
    "SELECT\n",
    "    ordernumber,\n",
    "    SUM(quantityOrdered * priceEach) AS Total_Amount\n",
    "FROM\n",
    "    orderdetails\n",
    "GROUP BY\n",
    "    orderNumber\n",
    "HAVING\n",
    "    Total_Amount > 1000;\n",
    "\"\"\"\n",
    "\n",
    "# Execute the query and display the results\n",
    "result_df = execute_query(sql_query)\n",
    "result_df"
   ]
  },
  {
   "cell_type": "markdown",
   "metadata": {},
   "source": [
    "___"
   ]
  },
  {
   "cell_type": "markdown",
   "metadata": {},
   "source": [
    "### Question 3  \n",
    "\n",
    "**Objective:** Use logical operators in the `HAVING` clause to filter grouped results with multiple conditions.\n",
    "\n",
    "**Task**  \n",
    "\n",
    "Using the `orderdetails` table, write a query to:  \n",
    "\n",
    "- Retrieve order numbers where total sales exceed `1000`.  \n",
    "- Identify orders that contain more than `600` items.  \n",
    "\n",
    "**Requirements**  \n",
    "\n",
    "- Use the `SUM` function to calculate total sales and total items per order.  \n",
    "- Use the `GROUP BY` clause to group results by `orderNumber`.  \n",
    "- Use the `HAVING` clause with `AND` to filter orders with total sales greater than `1000` and more than `600` items.  \n",
    "\n",
    "**Solution**  \n",
    "\n",
    "```sql\n",
    "SELECT\n",
    "    ordernumber,\n",
    "    SUM(quantityOrdered) AS itemsCount,\n",
    "    SUM(priceeach * quantityOrdered) AS total\n",
    "FROM\n",
    "    orderdetails\n",
    "GROUP BY\n",
    "    ordernumber\n",
    "HAVING\n",
    "    total > 1000\n",
    "    AND\n",
    "    itemsCount > 600;\n",
    "```\n",
    "\n"
   ]
  },
  {
   "cell_type": "code",
   "execution_count": 4,
   "metadata": {},
   "outputs": [
    {
     "data": {
      "application/vnd.microsoft.datawrangler.viewer.v0+json": {
       "columns": [
        {
         "name": "index",
         "rawType": "int64",
         "type": "integer"
        },
        {
         "name": "ordernumber",
         "rawType": "int64",
         "type": "integer"
        },
        {
         "name": "itemsCount",
         "rawType": "object",
         "type": "unknown"
        },
        {
         "name": "total",
         "rawType": "object",
         "type": "unknown"
        }
       ],
       "conversionMethod": "pd.DataFrame",
       "ref": "d9b87ab8-6c1e-4735-842b-8c601ac64e8f",
       "rows": [
        [
         "0",
         "10106",
         "675",
         "52151.81"
        ],
        [
         "1",
         "10126",
         "617",
         "57131.92"
        ],
        [
         "2",
         "10135",
         "607",
         "55601.84"
        ],
        [
         "3",
         "10165",
         "670",
         "67392.85"
        ],
        [
         "4",
         "10168",
         "642",
         "50743.65"
        ],
        [
         "5",
         "10204",
         "619",
         "58793.53"
        ],
        [
         "6",
         "10207",
         "615",
         "59265.14"
        ],
        [
         "7",
         "10212",
         "612",
         "59830.55"
        ],
        [
         "8",
         "10222",
         "717",
         "56822.65"
        ],
        [
         "9",
         "10262",
         "605",
         "47065.36"
        ],
        [
         "10",
         "10275",
         "601",
         "47924.19"
        ],
        [
         "11",
         "10310",
         "619",
         "61234.67"
        ],
        [
         "12",
         "10312",
         "601",
         "55639.66"
        ],
        [
         "13",
         "10316",
         "623",
         "46788.14"
        ],
        [
         "14",
         "10332",
         "621",
         "47159.11"
        ],
        [
         "15",
         "10339",
         "614",
         "48927.64"
        ],
        [
         "16",
         "10360",
         "620",
         "52166.00"
        ],
        [
         "17",
         "10373",
         "605",
         "46770.52"
        ],
        [
         "18",
         "10386",
         "650",
         "46968.52"
        ],
        [
         "19",
         "10390",
         "603",
         "55902.50"
        ],
        [
         "20",
         "10398",
         "629",
         "46656.94"
        ],
        [
         "21",
         "10414",
         "609",
         "50806.85"
        ]
       ],
       "shape": {
        "columns": 3,
        "rows": 22
       }
      },
      "text/html": [
       "<div>\n",
       "<style scoped>\n",
       "    .dataframe tbody tr th:only-of-type {\n",
       "        vertical-align: middle;\n",
       "    }\n",
       "\n",
       "    .dataframe tbody tr th {\n",
       "        vertical-align: top;\n",
       "    }\n",
       "\n",
       "    .dataframe thead th {\n",
       "        text-align: right;\n",
       "    }\n",
       "</style>\n",
       "<table border=\"1\" class=\"dataframe\">\n",
       "  <thead>\n",
       "    <tr style=\"text-align: right;\">\n",
       "      <th></th>\n",
       "      <th>ordernumber</th>\n",
       "      <th>itemsCount</th>\n",
       "      <th>total</th>\n",
       "    </tr>\n",
       "  </thead>\n",
       "  <tbody>\n",
       "    <tr>\n",
       "      <th>0</th>\n",
       "      <td>10106</td>\n",
       "      <td>675</td>\n",
       "      <td>52151.81</td>\n",
       "    </tr>\n",
       "    <tr>\n",
       "      <th>1</th>\n",
       "      <td>10126</td>\n",
       "      <td>617</td>\n",
       "      <td>57131.92</td>\n",
       "    </tr>\n",
       "    <tr>\n",
       "      <th>2</th>\n",
       "      <td>10135</td>\n",
       "      <td>607</td>\n",
       "      <td>55601.84</td>\n",
       "    </tr>\n",
       "    <tr>\n",
       "      <th>3</th>\n",
       "      <td>10165</td>\n",
       "      <td>670</td>\n",
       "      <td>67392.85</td>\n",
       "    </tr>\n",
       "    <tr>\n",
       "      <th>4</th>\n",
       "      <td>10168</td>\n",
       "      <td>642</td>\n",
       "      <td>50743.65</td>\n",
       "    </tr>\n",
       "    <tr>\n",
       "      <th>5</th>\n",
       "      <td>10204</td>\n",
       "      <td>619</td>\n",
       "      <td>58793.53</td>\n",
       "    </tr>\n",
       "    <tr>\n",
       "      <th>6</th>\n",
       "      <td>10207</td>\n",
       "      <td>615</td>\n",
       "      <td>59265.14</td>\n",
       "    </tr>\n",
       "    <tr>\n",
       "      <th>7</th>\n",
       "      <td>10212</td>\n",
       "      <td>612</td>\n",
       "      <td>59830.55</td>\n",
       "    </tr>\n",
       "    <tr>\n",
       "      <th>8</th>\n",
       "      <td>10222</td>\n",
       "      <td>717</td>\n",
       "      <td>56822.65</td>\n",
       "    </tr>\n",
       "    <tr>\n",
       "      <th>9</th>\n",
       "      <td>10262</td>\n",
       "      <td>605</td>\n",
       "      <td>47065.36</td>\n",
       "    </tr>\n",
       "    <tr>\n",
       "      <th>10</th>\n",
       "      <td>10275</td>\n",
       "      <td>601</td>\n",
       "      <td>47924.19</td>\n",
       "    </tr>\n",
       "    <tr>\n",
       "      <th>11</th>\n",
       "      <td>10310</td>\n",
       "      <td>619</td>\n",
       "      <td>61234.67</td>\n",
       "    </tr>\n",
       "    <tr>\n",
       "      <th>12</th>\n",
       "      <td>10312</td>\n",
       "      <td>601</td>\n",
       "      <td>55639.66</td>\n",
       "    </tr>\n",
       "    <tr>\n",
       "      <th>13</th>\n",
       "      <td>10316</td>\n",
       "      <td>623</td>\n",
       "      <td>46788.14</td>\n",
       "    </tr>\n",
       "    <tr>\n",
       "      <th>14</th>\n",
       "      <td>10332</td>\n",
       "      <td>621</td>\n",
       "      <td>47159.11</td>\n",
       "    </tr>\n",
       "    <tr>\n",
       "      <th>15</th>\n",
       "      <td>10339</td>\n",
       "      <td>614</td>\n",
       "      <td>48927.64</td>\n",
       "    </tr>\n",
       "    <tr>\n",
       "      <th>16</th>\n",
       "      <td>10360</td>\n",
       "      <td>620</td>\n",
       "      <td>52166.00</td>\n",
       "    </tr>\n",
       "    <tr>\n",
       "      <th>17</th>\n",
       "      <td>10373</td>\n",
       "      <td>605</td>\n",
       "      <td>46770.52</td>\n",
       "    </tr>\n",
       "    <tr>\n",
       "      <th>18</th>\n",
       "      <td>10386</td>\n",
       "      <td>650</td>\n",
       "      <td>46968.52</td>\n",
       "    </tr>\n",
       "    <tr>\n",
       "      <th>19</th>\n",
       "      <td>10390</td>\n",
       "      <td>603</td>\n",
       "      <td>55902.50</td>\n",
       "    </tr>\n",
       "    <tr>\n",
       "      <th>20</th>\n",
       "      <td>10398</td>\n",
       "      <td>629</td>\n",
       "      <td>46656.94</td>\n",
       "    </tr>\n",
       "    <tr>\n",
       "      <th>21</th>\n",
       "      <td>10414</td>\n",
       "      <td>609</td>\n",
       "      <td>50806.85</td>\n",
       "    </tr>\n",
       "  </tbody>\n",
       "</table>\n",
       "</div>"
      ],
      "text/plain": [
       "    ordernumber itemsCount     total\n",
       "0         10106        675  52151.81\n",
       "1         10126        617  57131.92\n",
       "2         10135        607  55601.84\n",
       "3         10165        670  67392.85\n",
       "4         10168        642  50743.65\n",
       "5         10204        619  58793.53\n",
       "6         10207        615  59265.14\n",
       "7         10212        612  59830.55\n",
       "8         10222        717  56822.65\n",
       "9         10262        605  47065.36\n",
       "10        10275        601  47924.19\n",
       "11        10310        619  61234.67\n",
       "12        10312        601  55639.66\n",
       "13        10316        623  46788.14\n",
       "14        10332        621  47159.11\n",
       "15        10339        614  48927.64\n",
       "16        10360        620  52166.00\n",
       "17        10373        605  46770.52\n",
       "18        10386        650  46968.52\n",
       "19        10390        603  55902.50\n",
       "20        10398        629  46656.94\n",
       "21        10414        609  50806.85"
      ]
     },
     "execution_count": 4,
     "metadata": {},
     "output_type": "execute_result"
    }
   ],
   "source": [
    "sql_query = \"\"\"\n",
    "\n",
    "SELECT\n",
    "    ordernumber,\n",
    "    SUM(quantityOrdered) AS itemsCount,\n",
    "    SUM(priceeach * quantityOrdered) AS total\n",
    "FROM\n",
    "    orderdetails\n",
    "GROUP BY\n",
    "    ordernumber\n",
    "HAVING\n",
    "    total > 1000\n",
    "    AND\n",
    "    itemsCount > 600;\n",
    "```\n",
    "\n",
    "\"\"\"\n",
    "\n",
    "# Execute the query and display the results\n",
    "result_df = execute_query(sql_query)\n",
    "result_df"
   ]
  },
  {
   "cell_type": "markdown",
   "metadata": {},
   "source": [
    "___"
   ]
  },
  {
   "cell_type": "markdown",
   "metadata": {},
   "source": [
    "### Question 4  \n",
    "\n",
    "**Objective:** Use `HAVING` with `INNER JOIN` to filter orders based on multiple tables.\n",
    "\n",
    "**Task**  \n",
    "\n",
    "Using the `orderdetails` and `orders` tables, write a query to:  \n",
    "\n",
    "- Retrieve order numbers where the order status is `Shipped`.  \n",
    "- Identify orders with a total amount greater than `1500`.  \n",
    "\n",
    "**Requirements**  \n",
    "\n",
    "- Use `INNER JOIN` to join the `orderdetails` table with the `orders` table using `orderNumber`.  \n",
    "- Use the `SUM` function to calculate total sales per order.  \n",
    "- Use `GROUP BY` to group results by `orderNumber` and `status`.  \n",
    "- Use the `HAVING` clause with `AND` to filter orders where `status = 'Shipped'` and total sales exceed `1500`.  \n",
    "\n",
    "**Solution**  \n",
    "\n",
    "```sql\n",
    "SELECT\n",
    "    orderdetails.orderNumber,\n",
    "    orders.status,\n",
    "    SUM(quantityOrdered * priceEach) AS Total_Amount\n",
    "FROM\n",
    "    orderdetails\n",
    "INNER JOIN\n",
    "    orders\n",
    "USING(orderNumber)\n",
    "GROUP BY\n",
    "    orderdetails.orderNumber,\n",
    "    orders.status\n",
    "HAVING\n",
    "    status = 'Shipped'\n",
    "    AND\n",
    "    Total_Amount > 1500;\n",
    "```\n",
    "\n"
   ]
  },
  {
   "cell_type": "code",
   "execution_count": 8,
   "metadata": {},
   "outputs": [
    {
     "data": {
      "application/vnd.microsoft.datawrangler.viewer.v0+json": {
       "columns": [
        {
         "name": "index",
         "rawType": "int64",
         "type": "integer"
        },
        {
         "name": "orderNumber",
         "rawType": "int64",
         "type": "integer"
        },
        {
         "name": "status",
         "rawType": "object",
         "type": "string"
        },
        {
         "name": "Total_Amount",
         "rawType": "object",
         "type": "unknown"
        }
       ],
       "conversionMethod": "pd.DataFrame",
       "ref": "c76860b0-62d2-40e8-a72b-eb43de96d0a6",
       "rows": [
        [
         "0",
         "10100",
         "Shipped",
         "10223.83"
        ],
        [
         "1",
         "10101",
         "Shipped",
         "10549.01"
        ],
        [
         "2",
         "10102",
         "Shipped",
         "5494.78"
        ],
        [
         "3",
         "10103",
         "Shipped",
         "50218.95"
        ],
        [
         "4",
         "10104",
         "Shipped",
         "40206.20"
        ],
        [
         "5",
         "10105",
         "Shipped",
         "53959.21"
        ],
        [
         "6",
         "10106",
         "Shipped",
         "52151.81"
        ],
        [
         "7",
         "10107",
         "Shipped",
         "22292.62"
        ],
        [
         "8",
         "10108",
         "Shipped",
         "51001.22"
        ],
        [
         "9",
         "10109",
         "Shipped",
         "25833.14"
        ],
        [
         "10",
         "10110",
         "Shipped",
         "48425.69"
        ],
        [
         "11",
         "10111",
         "Shipped",
         "16537.85"
        ],
        [
         "12",
         "10112",
         "Shipped",
         "7674.94"
        ],
        [
         "13",
         "10113",
         "Shipped",
         "11044.30"
        ],
        [
         "14",
         "10114",
         "Shipped",
         "33383.14"
        ],
        [
         "15",
         "10115",
         "Shipped",
         "21665.98"
        ],
        [
         "16",
         "10116",
         "Shipped",
         "1627.56"
        ],
        [
         "17",
         "10117",
         "Shipped",
         "44380.15"
        ],
        [
         "18",
         "10118",
         "Shipped",
         "3101.40"
        ],
        [
         "19",
         "10119",
         "Shipped",
         "35826.33"
        ],
        [
         "20",
         "10120",
         "Shipped",
         "45864.03"
        ],
        [
         "21",
         "10121",
         "Shipped",
         "16700.47"
        ],
        [
         "22",
         "10122",
         "Shipped",
         "50824.66"
        ],
        [
         "23",
         "10123",
         "Shipped",
         "14571.44"
        ],
        [
         "24",
         "10124",
         "Shipped",
         "32641.98"
        ],
        [
         "25",
         "10125",
         "Shipped",
         "7565.08"
        ],
        [
         "26",
         "10126",
         "Shipped",
         "57131.92"
        ],
        [
         "27",
         "10127",
         "Shipped",
         "58841.35"
        ],
        [
         "28",
         "10128",
         "Shipped",
         "13884.99"
        ],
        [
         "29",
         "10129",
         "Shipped",
         "29429.14"
        ],
        [
         "30",
         "10130",
         "Shipped",
         "6036.96"
        ],
        [
         "31",
         "10131",
         "Shipped",
         "17032.29"
        ],
        [
         "32",
         "10132",
         "Shipped",
         "2880.00"
        ],
        [
         "33",
         "10133",
         "Shipped",
         "22366.04"
        ],
        [
         "34",
         "10134",
         "Shipped",
         "23419.47"
        ],
        [
         "35",
         "10135",
         "Shipped",
         "55601.84"
        ],
        [
         "36",
         "10136",
         "Shipped",
         "14232.70"
        ],
        [
         "37",
         "10137",
         "Shipped",
         "13920.26"
        ],
        [
         "38",
         "10138",
         "Shipped",
         "32077.44"
        ],
        [
         "39",
         "10139",
         "Shipped",
         "24013.52"
        ],
        [
         "40",
         "10140",
         "Shipped",
         "38675.13"
        ],
        [
         "41",
         "10141",
         "Shipped",
         "29716.86"
        ],
        [
         "42",
         "10142",
         "Shipped",
         "56052.56"
        ],
        [
         "43",
         "10143",
         "Shipped",
         "41016.75"
        ],
        [
         "44",
         "10145",
         "Shipped",
         "50342.74"
        ],
        [
         "45",
         "10146",
         "Shipped",
         "6631.36"
        ],
        [
         "46",
         "10147",
         "Shipped",
         "32680.31"
        ],
        [
         "47",
         "10148",
         "Shipped",
         "41554.73"
        ],
        [
         "48",
         "10149",
         "Shipped",
         "29997.09"
        ],
        [
         "49",
         "10150",
         "Shipped",
         "38350.15"
        ]
       ],
       "shape": {
        "columns": 3,
        "rows": 300
       }
      },
      "text/html": [
       "<div>\n",
       "<style scoped>\n",
       "    .dataframe tbody tr th:only-of-type {\n",
       "        vertical-align: middle;\n",
       "    }\n",
       "\n",
       "    .dataframe tbody tr th {\n",
       "        vertical-align: top;\n",
       "    }\n",
       "\n",
       "    .dataframe thead th {\n",
       "        text-align: right;\n",
       "    }\n",
       "</style>\n",
       "<table border=\"1\" class=\"dataframe\">\n",
       "  <thead>\n",
       "    <tr style=\"text-align: right;\">\n",
       "      <th></th>\n",
       "      <th>orderNumber</th>\n",
       "      <th>status</th>\n",
       "      <th>Total_Amount</th>\n",
       "    </tr>\n",
       "  </thead>\n",
       "  <tbody>\n",
       "    <tr>\n",
       "      <th>0</th>\n",
       "      <td>10100</td>\n",
       "      <td>Shipped</td>\n",
       "      <td>10223.83</td>\n",
       "    </tr>\n",
       "    <tr>\n",
       "      <th>1</th>\n",
       "      <td>10101</td>\n",
       "      <td>Shipped</td>\n",
       "      <td>10549.01</td>\n",
       "    </tr>\n",
       "    <tr>\n",
       "      <th>2</th>\n",
       "      <td>10102</td>\n",
       "      <td>Shipped</td>\n",
       "      <td>5494.78</td>\n",
       "    </tr>\n",
       "    <tr>\n",
       "      <th>3</th>\n",
       "      <td>10103</td>\n",
       "      <td>Shipped</td>\n",
       "      <td>50218.95</td>\n",
       "    </tr>\n",
       "    <tr>\n",
       "      <th>4</th>\n",
       "      <td>10104</td>\n",
       "      <td>Shipped</td>\n",
       "      <td>40206.20</td>\n",
       "    </tr>\n",
       "    <tr>\n",
       "      <th>...</th>\n",
       "      <td>...</td>\n",
       "      <td>...</td>\n",
       "      <td>...</td>\n",
       "    </tr>\n",
       "    <tr>\n",
       "      <th>295</th>\n",
       "      <td>10412</td>\n",
       "      <td>Shipped</td>\n",
       "      <td>46895.48</td>\n",
       "    </tr>\n",
       "    <tr>\n",
       "      <th>296</th>\n",
       "      <td>10413</td>\n",
       "      <td>Shipped</td>\n",
       "      <td>28500.78</td>\n",
       "    </tr>\n",
       "    <tr>\n",
       "      <th>297</th>\n",
       "      <td>10416</td>\n",
       "      <td>Shipped</td>\n",
       "      <td>35362.26</td>\n",
       "    </tr>\n",
       "    <tr>\n",
       "      <th>298</th>\n",
       "      <td>10418</td>\n",
       "      <td>Shipped</td>\n",
       "      <td>23627.44</td>\n",
       "    </tr>\n",
       "    <tr>\n",
       "      <th>299</th>\n",
       "      <td>10419</td>\n",
       "      <td>Shipped</td>\n",
       "      <td>52420.07</td>\n",
       "    </tr>\n",
       "  </tbody>\n",
       "</table>\n",
       "<p>300 rows × 3 columns</p>\n",
       "</div>"
      ],
      "text/plain": [
       "     orderNumber   status Total_Amount\n",
       "0          10100  Shipped     10223.83\n",
       "1          10101  Shipped     10549.01\n",
       "2          10102  Shipped      5494.78\n",
       "3          10103  Shipped     50218.95\n",
       "4          10104  Shipped     40206.20\n",
       "..           ...      ...          ...\n",
       "295        10412  Shipped     46895.48\n",
       "296        10413  Shipped     28500.78\n",
       "297        10416  Shipped     35362.26\n",
       "298        10418  Shipped     23627.44\n",
       "299        10419  Shipped     52420.07\n",
       "\n",
       "[300 rows x 3 columns]"
      ]
     },
     "execution_count": 8,
     "metadata": {},
     "output_type": "execute_result"
    }
   ],
   "source": [
    "sql_query = \"\"\"\n",
    "\n",
    "SELECT\n",
    "    orderdetails.orderNumber,\n",
    "    orders.status,\n",
    "    SUM(quantityOrdered * priceEach) AS Total_Amount\n",
    "FROM\n",
    "    orderdetails\n",
    "INNER JOIN\n",
    "    orders\n",
    "USING(orderNumber)\n",
    "GROUP BY\n",
    "    orderdetails.orderNumber,\n",
    "    orders.status\n",
    "HAVING\n",
    "    status = 'Shipped'\n",
    "    AND\n",
    "    Total_Amount > 1500;\n",
    "\n",
    "\"\"\"\n",
    "\n",
    "# Execute the query and display the results\n",
    "result_df = execute_query(sql_query)\n",
    "result_df"
   ]
  },
  {
   "cell_type": "markdown",
   "metadata": {},
   "source": [
    "----"
   ]
  },
  {
   "cell_type": "markdown",
   "metadata": {},
   "source": [
    "### Summary and Personal Reflection\n",
    "____\n",
    "\n",
    "\n",
    "This chapter explored the power of the `HAVING` clause in SQL, highlighting its ability to filter grouped data and refine query results efficiently. By combining `GROUP BY` with aggregate functions and logical operators, we can uncover meaningful insights, such as identifying high-value orders and analyzing sales performance based on multiple conditions.\n",
    "\n",
    "Through this learning process, I have reinforced my understanding of how `HAVING` differs from `WHERE`, particularly when working with aggregated data. Applying multiple conditions using `AND` and `OR` has further enhanced my ability to structure complex queries that yield precise results.\n",
    "\n",
    "Mastering these concepts is crucial for any SQL practitioner, as they play a significant role in real-world data analysis and business intelligence. I encourage further practice with different datasets to gain deeper insights into grouping and filtering data effectively.\n",
    "\n",
    "I hope you found this chapter insightful. Feel free to explore additional SQL techniques and challenges to continue refining your skills. Thank you for reading!\n",
    "\n"
   ]
  }
 ],
 "metadata": {
  "kernelspec": {
   "display_name": "data-science-env",
   "language": "python",
   "name": "python3"
  },
  "language_info": {
   "codemirror_mode": {
    "name": "ipython",
    "version": 3
   },
   "file_extension": ".py",
   "mimetype": "text/x-python",
   "name": "python",
   "nbconvert_exporter": "python",
   "pygments_lexer": "ipython3",
   "version": "3.12.6"
  }
 },
 "nbformat": 4,
 "nbformat_minor": 2
}
