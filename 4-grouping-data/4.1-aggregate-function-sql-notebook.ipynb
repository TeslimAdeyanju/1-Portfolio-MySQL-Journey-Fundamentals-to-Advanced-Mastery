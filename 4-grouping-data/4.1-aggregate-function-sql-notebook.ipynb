{
 "cells": [
  {
   "cell_type": "markdown",
   "metadata": {},
   "source": [
    "# 📚 SQL Aggregate Function\n",
    "___\n",
    "\n",
    "<div style=\"font-family: Avenir, sans-serif; font-size: 16px; line-height: 1.6; color: white; background-color: #333; padding: 10px; border-radius: 5px;\">\n",
    "This series of notebooks is a collection of my SQL projects. I have been working with SQL for a few years now and I have been using it in various projects. I have decided to create this portfolio to showcase my SQL skills. I hope you enjoy it!\n",
    "\n",
    "</div>"
   ]
  },
  {
   "cell_type": "markdown",
   "metadata": {},
   "source": [
    "Welcome to my SQL portfolio! This notebook delves into Self Joins, demonstrating my understanding of key SQL concepts, including:\n",
    "\n",
    "- Using **aliases** for enhanced readability and clarity\n",
    "- Performing **Right Joins** to combine data from multiple tables with specified conditions\n",
    "- Leveraging **aggregations** to summarize data insights\n",
    "- Filtering aggregated results with **HAVING clauses** for precise queries\n",
    "\n",
    "To showcase the practical applications of SQL in data analysis and database management, I’ve integrated Python to connect to the database, execute SQL queries, and display results directly within this notebook.\n",
    "\n",
    "### Database Overview\n",
    "\n",
    "This notebook utilizes the `classicmodels` sample database, which includes key tables like **customers**, **orders**, **products**, and **orderdetails**. These tables represent real-world relationships among customers, products, and sales orders, providing a realistic foundation for practicing SQL join operations.\n",
    "\n",
    "### Key Tables and Columns:\n",
    "\n",
    "- **customers**: `customerNumber`, `customerName`, `contactLastName`, `contactFirstName`\n",
    "- **orders**: `orderNumber`, `orderDate`, `customerNumber`\n",
    "- **orderdetails**: `orderNumber`, `productCode`, `quantityOrdered`, `priceEach`\n",
    "- **products**: `productCode`, `productName`, `productLine`, `msrp`\n",
    "\n",
    "By combining SQL techniques with Python's database connectivity, this portfolio demonstrates efficient ways to perform business data analysis and streamline insights into customer orders, products, and sales."
   ]
  },
  {
   "cell_type": "code",
   "execution_count": null,
   "metadata": {},
   "outputs": [],
   "source": [
    "# Import necessary libraries\n",
    "import mysql.connector\n",
    "import pandas as pd\n",
    "\n",
    "# Establish database connection\n",
    "connection = mysql.connector.connect(\n",
    "    user='root',\n",
    "    password='Password1234',\n",
    "    host='localhost',\n",
    "    database='classicmodels'\n",
    ")\n",
    "\n",
    "# Function to execute SQL queries and display results\n",
    "def execute_query(query):\n",
    "    cursor = connection.cursor()\n",
    "    cursor.execute(query)\n",
    "    \n",
    "    # Fetch results and convert to a DataFrame\n",
    "    result = cursor.fetchall()\n",
    "    columns = [desc[0] for desc in cursor.description]  # Column names\n",
    "    \n",
    "    # Close cursor after execution\n",
    "    cursor.close()\n",
    "    return pd.DataFrame(result, columns=columns)\n"
   ]
  },
  {
   "cell_type": "markdown",
   "metadata": {},
   "source": [
    "____"
   ]
  }
 ],
 "metadata": {
  "kernelspec": {
   "display_name": "data-science-env",
   "language": "python",
   "name": "python3"
  },
  "language_info": {
   "codemirror_mode": {
    "name": "ipython",
    "version": 3
   },
   "file_extension": ".py",
   "mimetype": "text/x-python",
   "name": "python",
   "nbconvert_exporter": "python",
   "pygments_lexer": "ipython3",
   "version": "3.12.6"
  }
 },
 "nbformat": 4,
 "nbformat_minor": 2
}
